{
  "cells": [
    {
      "cell_type": "markdown",
      "metadata": {
        "id": "view-in-github",
        "colab_type": "text"
      },
      "source": [
        "<a href=\"https://colab.research.google.com/github/davidolima/car-model-classification/blob/main/main.ipynb\" target=\"_parent\"><img src=\"https://colab.research.google.com/assets/colab-badge.svg\" alt=\"Open In Colab\"/></a>"
      ]
    },
    {
      "cell_type": "markdown",
      "metadata": {
        "id": "kaFm7O5emBli"
      },
      "source": [
        "# Trabalho final - Curso Deep Learning\n",
        "### Prof. Luciano de Rebouças\n",
        "### Aluno: David de Oliveira Lima"
      ]
    },
    {
      "cell_type": "code",
      "execution_count": 1,
      "metadata": {
        "colab": {
          "base_uri": "https://localhost:8080/"
        },
        "id": "42QmuG5eQAJO",
        "outputId": "eb3e4c87-4d6a-4770-ce87-8ae8384fe651"
      },
      "outputs": [
        {
          "output_type": "stream",
          "name": "stdout",
          "text": [
            "Drive already mounted at /content/drive; to attempt to forcibly remount, call drive.mount(\"/content/drive\", force_remount=True).\n"
          ]
        }
      ],
      "source": [
        "from google.colab import drive\n",
        "drive.mount('/content/drive')"
      ]
    },
    {
      "cell_type": "markdown",
      "metadata": {
        "id": "9QOvpNgNmBlm"
      },
      "source": [
        "# Imports"
      ]
    },
    {
      "cell_type": "code",
      "execution_count": 2,
      "metadata": {
        "id": "3L-GFL3hNAcU"
      },
      "outputs": [],
      "source": [
        "# !kaggle datasets download -d peterjun/car196 -p \"/content/drive/MyDrive/Colab Notebooks\"\n",
        "# %cd \"/content/drive/MyDrive/Colab Notebooks\"\n",
        "# !unzip car196.zip\n",
        "# !rm car196.zip"
      ]
    },
    {
      "cell_type": "code",
      "execution_count": 3,
      "metadata": {
        "id": "_DF7Ap67mBlo"
      },
      "outputs": [],
      "source": [
        "# Core\n",
        "import tensorflow as tf\n",
        "import tensorflow.keras as keras\n",
        "\n",
        "# Redes e optimizers\n",
        "from keras.applications import VGG19, ResNet50V2, EfficientNetB0, InceptionV3\n",
        "from keras.optimizers import Adam, SGD\n",
        "\n",
        "# Keras\n",
        "from keras import Sequential\n",
        "from keras.utils import to_categorical, image_dataset_from_directory, split_dataset\n",
        "from keras.preprocessing.image import ImageDataGenerator\n",
        "from keras.losses import sparse_categorical_crossentropy, categorical_crossentropy\n",
        "from keras.layers import *\n",
        "from keras.callbacks import ModelCheckpoint, EarlyStopping\n",
        "import tensorflow.keras.backend as K\n",
        "\n",
        "\n",
        "# Etc\n",
        "import pandas as pd\n",
        "import matplotlib.pyplot as plt\n",
        "import numpy as np\n",
        "# import tensorflow_datasets as tfds\n",
        "import scipy.io\n",
        "# import deeplake"
      ]
    },
    {
      "cell_type": "markdown",
      "metadata": {
        "id": "VZn9lBe8mBlr"
      },
      "source": [
        "# Parâmetros"
      ]
    },
    {
      "cell_type": "code",
      "execution_count": 4,
      "metadata": {
        "id": "z-TyoUXimBls"
      },
      "outputs": [],
      "source": [
        "n_classes = 196\n",
        "lr_sgd = .001\n",
        "lr_adam = .001\n",
        "epochs = 50\n",
        "batch_size = 32\n",
        "n_splits = 5\n",
        "img_size = (256,256)\n",
        "es_patience = 8\n",
        "root = \"/content/drive/MyDrive/Colab Notebooks/car196/\"\n",
        "val_split = 0.2\n",
        "channels = 3"
      ]
    },
    {
      "cell_type": "markdown",
      "metadata": {
        "id": "XXJ_4EtumBlu"
      },
      "source": [
        "# Inicialização"
      ]
    },
    {
      "cell_type": "code",
      "execution_count": 5,
      "metadata": {
        "id": "gGWc2De-mBlv"
      },
      "outputs": [],
      "source": [
        "adam = Adam(lr_adam,\n",
        "           beta_1=0.9,\n",
        "           beta_2=0.999,\n",
        "           )\n",
        "\n",
        "sgd = SGD(\n",
        "    lr_sgd,\n",
        "    momentum=.6\n",
        ")\n",
        "criterion = categorical_crossentropy\n",
        "early_stop = EarlyStopping(monitor='val_loss',\n",
        "                           mode='min', verbose=1,\n",
        "                           patience=es_patience,\n",
        "                           restore_best_weights = True\n",
        "                           )"
      ]
    },
    {
      "cell_type": "code",
      "execution_count": 6,
      "metadata": {
        "id": "LNNMjek1mBlw"
      },
      "outputs": [],
      "source": [
        "def plothist(hist):\n",
        "    plt.plot(hist.history['accuracy'])\n",
        "    plt.plot(hist.history['val_accuracy'])\n",
        "    plt.title('model accuracy')\n",
        "    plt.ylabel('accuracy')\n",
        "    plt.xlabel('epoch')\n",
        "    plt.legend(['train', 'test'], loc='upper left')\n",
        "    plt.show()"
      ]
    },
    {
      "cell_type": "markdown",
      "metadata": {
        "id": "sqQvr4RjmBlz"
      },
      "source": [
        "## Data"
      ]
    },
    {
      "cell_type": "code",
      "execution_count": 7,
      "metadata": {
        "colab": {
          "base_uri": "https://localhost:8080/"
        },
        "id": "fGlYbAyQmBl2",
        "outputId": "7e24f0ef-cbae-46c5-a6f6-a847219b77c7"
      },
      "outputs": [
        {
          "output_type": "stream",
          "name": "stdout",
          "text": [
            "Found 8144 files belonging to 196 classes.\n",
            "Using 6516 files for training.\n",
            "Using 1628 files for validation.\n",
            "Test images\n",
            "Found 8041 files belonging to 196 classes.\n"
          ]
        }
      ],
      "source": [
        "# Carregando dataset\n",
        "ds_train, ds_val = image_dataset_from_directory(\n",
        "    root + \"train/\",\n",
        "    label_mode=\"categorical\",\n",
        "    color_mode=\"rgb\",\n",
        "    batch_size=batch_size,\n",
        "    seed=2023,\n",
        "    validation_split=val_split,\n",
        "    subset='both',\n",
        "    image_size=img_size,\n",
        "    shuffle=True,\n",
        ")\n",
        "\n",
        "print(\"Test images\")\n",
        "ds_test = image_dataset_from_directory(\n",
        "    root + \"test/\",\n",
        "    label_mode=\"categorical\",\n",
        "    color_mode=\"rgb\",\n",
        "    batch_size=batch_size,\n",
        "    seed=2023,\n",
        "    image_size=img_size,\n",
        "    shuffle=True,\n",
        ")\n",
        "\n",
        "# ds_train, ds_val = split_dataset(ds_train, left_size=1-val_split, right_size=val_split)\n",
        "#print(ds_train.,\"training images\")\n",
        "# print(len(ds_val),\"validation images\")\n",
        "# print(len(ds_test),\"testing images\")"
      ]
    },
    {
      "cell_type": "code",
      "execution_count": 8,
      "metadata": {
        "id": "QRqHnTtimBl3"
      },
      "outputs": [],
      "source": [
        "# Augmentation\n",
        "resize_and_rescale = tf.keras.Sequential([\n",
        "  Resizing(img_size[0], img_size[1]),\n",
        "  Rescaling(1./255)\n",
        "])\n",
        "\n",
        "augmentation = keras.Sequential([\n",
        "    # Resizing(img_size[0],img_size[1]),\n",
        "    # Rescaling(1./255),\n",
        "    RandomRotation(0.45),\n",
        "    RandomFlip(\"horizontal\"),\n",
        "    RandomTranslation(height_factor=0.1, width_factor=0.1),\n",
        "    ])"
      ]
    },
    {
      "cell_type": "markdown",
      "metadata": {
        "id": "S8Xsn9zdmBl7"
      },
      "source": [
        "# Treinamento das redes"
      ]
    },
    {
      "cell_type": "markdown",
      "metadata": {
        "id": "9Ey20DqemBl8"
      },
      "source": [
        "## VGG19"
      ]
    },
    {
      "cell_type": "code",
      "execution_count": 9,
      "metadata": {
        "colab": {
          "base_uri": "https://localhost:8080/"
        },
        "id": "atNb2AMgmBl-",
        "outputId": "bade4cd1-162b-4890-db2f-8ecfc08faa70"
      },
      "outputs": [
        {
          "output_type": "stream",
          "name": "stdout",
          "text": [
            "Model: \"sequential_2\"\n",
            "_________________________________________________________________\n",
            " Layer (type)                Output Shape              Param #   \n",
            "=================================================================\n",
            " sequential (Sequential)     (None, 256, 256, 3)       0         \n",
            "                                                                 \n",
            " sequential_1 (Sequential)   (None, 256, 256, 3)       0         \n",
            "                                                                 \n",
            " vgg19 (Functional)          (None, 8, 8, 512)         20024384  \n",
            "                                                                 \n",
            " flatten (Flatten)           (None, 32768)             0         \n",
            "                                                                 \n",
            " dense (Dense)               (None, 512)               16777728  \n",
            "                                                                 \n",
            " dropout (Dropout)           (None, 512)               0         \n",
            "                                                                 \n",
            " dense_1 (Dense)             (None, 256)               131328    \n",
            "                                                                 \n",
            " dropout_1 (Dropout)         (None, 256)               0         \n",
            "                                                                 \n",
            " dense_2 (Dense)             (None, 196)               50372     \n",
            "                                                                 \n",
            "=================================================================\n",
            "Total params: 36,983,812\n",
            "Trainable params: 36,983,812\n",
            "Non-trainable params: 0\n",
            "_________________________________________________________________\n"
          ]
        }
      ],
      "source": [
        "base = VGG19(\n",
        "    include_top=False,\n",
        "    weights=\"imagenet\", # transfer learning da imagenet\n",
        "    input_tensor=None,\n",
        "    input_shape=(img_size[0],img_size[1],3),\n",
        "    pooling=None,\n",
        "    classes=n_classes,\n",
        "    classifier_activation='softmax',\n",
        ")\n",
        "\n",
        "model_1 = Sequential([\n",
        "    resize_and_rescale,\n",
        "    augmentation,\n",
        "    base,\n",
        "    Flatten(),\n",
        "    # Dense(1024,activation='relu',input_dim=512),\n",
        "    # Dropout(.3),\n",
        "    Dense(512, activation='relu'),\n",
        "    Dropout(.2),\n",
        "    Dense(256, activation='relu'),\n",
        "    Dropout(.1),\n",
        "    Dense(n_classes, activation='softmax'),\n",
        "])\n",
        "# vgg.add(base)\n",
        "# vgg.add(Flatten())\n",
        "\n",
        "# vgg.add(Dense(1024, activation=hl_act_fn,input_dim=512))\n",
        "# vgg.add(Dropout(.3))\n",
        "# vgg.add(Dense(512, activation='relu'))\n",
        "# vgg.add(Dropout(.2))\n",
        "# vgg.add(Dense(256, activation='relu'))\n",
        "# vgg.add(Dropout(.1))\n",
        "# vgg.add(Dense(n_classes, activation='softmax'))\n",
        "model_1.build((None, img_size[0], img_size[1], channels))\n",
        "model_1.summary()"
      ]
    },
    {
      "cell_type": "code",
      "execution_count": null,
      "metadata": {
        "colab": {
          "base_uri": "https://localhost:8080/"
        },
        "id": "wspBiEzjmBl_",
        "outputId": "3f80ef53-e818-48ba-f297-21bd9d0085cb"
      },
      "outputs": [
        {
          "output_type": "stream",
          "name": "stdout",
          "text": [
            "Epoch 1/50\n",
            "126/204 [=================>............] - ETA: 49s - loss: 5.3235 - accuracy: 0.0042"
          ]
        }
      ],
      "source": [
        "# Training\n",
        "checkpoint = ModelCheckpoint(f\"/content/trab-final-best-vgg.hdf5\",\n",
        "                            monitor='loss', verbose=1,\n",
        "                            save_best_only=True,\n",
        "                            mode='auto')\n",
        "\n",
        "model_1.compile(loss=criterion,\n",
        "            optimizer=sgd,\n",
        "            metrics=[\"accuracy\"],\n",
        "            )\n",
        "\n",
        "history = model_1.fit(ds_train,\n",
        "                  validation_data=ds_val,\n",
        "                  batch_size=batch_size,\n",
        "                  epochs=epochs,\n",
        "                  verbose=1,\n",
        "                  callbacks=[keras.callbacks.History(), early_stop, checkpoint])"
      ]
    },
    {
      "cell_type": "code",
      "execution_count": null,
      "metadata": {
        "id": "yqjagY9kmBmA"
      },
      "outputs": [],
      "source": [
        "plothist(history)"
      ]
    },
    {
      "cell_type": "code",
      "execution_count": null,
      "metadata": {
        "id": "358hePuNmBmB"
      },
      "outputs": [],
      "source": [
        "model_test_acc=model_1.evaluate(ds_test,batch_size=4)"
      ]
    },
    {
      "cell_type": "markdown",
      "metadata": {
        "id": "DWykljyPmBmC"
      },
      "source": [
        "## EfficientNetB0"
      ]
    },
    {
      "cell_type": "code",
      "execution_count": null,
      "metadata": {
        "id": "Vb2Zg5ZXDmGk"
      },
      "outputs": [],
      "source": [
        "base = EfficientNetB0(\n",
        "    include_top=False,\n",
        "    weights=\"imagenet\", # transfer learning da imagenet\n",
        "    input_tensor=None,\n",
        "    input_shape=(img_size[0],img_size[1],3),\n",
        "    pooling=None,\n",
        "    classes=n_classes,\n",
        "    classifier_activation='softmax',\n",
        ")\n",
        "\n",
        "base.trainable = False\n",
        "model_2 = Sequential([\n",
        "    resize_and_rescale,\n",
        "    augmentation,\n",
        "    base,\n",
        "    Flatten(),\n",
        "    Dense(512, activation='relu'),\n",
        "    Dropout(.2),\n",
        "    Dense(256, activation='relu'),\n",
        "    Dropout(.1),\n",
        "    Dense(n_classes, activation='softmax'),\n",
        "])\n",
        "\n",
        "model_2.build((None, img_size[0], img_size[1], channels))\n",
        "model_2.summary()"
      ]
    },
    {
      "cell_type": "code",
      "execution_count": null,
      "metadata": {
        "id": "6fyPKKuLDlqs"
      },
      "outputs": [],
      "source": [
        "# Training\n",
        "checkpoint = ModelCheckpoint(f\"/content/drive/MyDrive/Colab Notebooks/trab-final-best-effnetb0.hdf5\",\n",
        "                            monitor='loss', verbose=1,\n",
        "                            save_best_only=True,\n",
        "                            mode='auto')\n",
        "\n",
        "model_2.compile(loss=criterion,\n",
        "            optimizer=sgd,\n",
        "            metrics=[\"accuracy\"],\n",
        "            )\n",
        "\n",
        "history = model_2.fit(ds_train,\n",
        "                  validation_data=ds_val,\n",
        "                  batch_size=batch_size,\n",
        "                  epochs=epochs,\n",
        "                  verbose=1,\n",
        "                  callbacks=[keras.callbacks.History(), early_stop, checkpoint])"
      ]
    },
    {
      "cell_type": "code",
      "execution_count": null,
      "metadata": {
        "id": "qHArcvPpDlZK"
      },
      "outputs": [],
      "source": [
        "plothist(history)"
      ]
    },
    {
      "cell_type": "code",
      "execution_count": null,
      "metadata": {
        "id": "L9KiNcoVDVZW"
      },
      "outputs": [],
      "source": [
        "model_test_acc=model_2.evaluate(ds_test,batch_size=4)"
      ]
    },
    {
      "cell_type": "markdown",
      "metadata": {
        "id": "bRHHX6ysmBmD"
      },
      "source": [
        "## ResNet50V2"
      ]
    },
    {
      "cell_type": "code",
      "execution_count": null,
      "metadata": {
        "id": "mCVBFAqyEAge"
      },
      "outputs": [],
      "source": [
        "base = ResNet50V2(\n",
        "    include_top=False,\n",
        "    weights=\"imagenet\", # transfer learning da imagenet\n",
        "    input_tensor=None,\n",
        "    input_shape=(img_size[0],img_size[1],3),\n",
        "    pooling=None,\n",
        "    classes=n_classes,\n",
        "    classifier_activation='softmax',\n",
        ")\n",
        "\n",
        "base.trainable = False\n",
        "model_3 = Sequential([\n",
        "    resize_and_rescale,\n",
        "    augmentation,\n",
        "    base,\n",
        "    Flatten(),\n",
        "    Dense(512, activation='relu'),\n",
        "    Dropout(.2),\n",
        "    Dense(256, activation='relu'),\n",
        "    Dropout(.1),\n",
        "    Dense(n_classes, activation='softmax'),\n",
        "])\n",
        "\n",
        "model_3.build((None, img_size[0], img_size[1], channels))\n",
        "model_3.summary()"
      ]
    },
    {
      "cell_type": "code",
      "execution_count": null,
      "metadata": {
        "id": "O3qb8CQzEAgh"
      },
      "outputs": [],
      "source": [
        "# Training\n",
        "checkpoint = ModelCheckpoint(f\"/content/drive/MyDrive/Colab Notebooks/trab-final-best-resnet50v2.hdf5\",\n",
        "                            monitor='loss', verbose=1,\n",
        "                            save_best_only=True,\n",
        "                            mode='auto')\n",
        "\n",
        "model_3.compile(loss=criterion,\n",
        "            optimizer=sgd,\n",
        "            metrics=[\"accuracy\"],\n",
        "            )\n",
        "\n",
        "history = model_3.fit(ds_train,\n",
        "                  validation_data=ds_val,\n",
        "                  batch_size=batch_size,\n",
        "                  epochs=epochs,\n",
        "                  verbose=1,\n",
        "                  callbacks=[keras.callbacks.History(), early_stop, checkpoint])"
      ]
    },
    {
      "cell_type": "code",
      "execution_count": null,
      "metadata": {
        "id": "VTrs2VzjEAgj"
      },
      "outputs": [],
      "source": [
        "plothist(history)"
      ]
    },
    {
      "cell_type": "code",
      "execution_count": null,
      "metadata": {
        "id": "phZA582cEAgm"
      },
      "outputs": [],
      "source": [
        "model_test_acc=model_3.evaluate(ds_test,batch_size=4)"
      ]
    },
    {
      "cell_type": "markdown",
      "metadata": {
        "id": "9G9vDvximBmE"
      },
      "source": [
        "## InceptionV3"
      ]
    },
    {
      "cell_type": "code",
      "execution_count": null,
      "metadata": {
        "id": "txQwM3IKEBje"
      },
      "outputs": [],
      "source": [
        "base = InceptionV3(\n",
        "    include_top=False,\n",
        "    weights=\"imagenet\", # transfer learning da imagenet\n",
        "    input_tensor=None,\n",
        "    input_shape=(img_size[0],img_size[1],3),\n",
        "    pooling=None,\n",
        "    classes=n_classes,\n",
        "    classifier_activation='softmax',\n",
        ")\n",
        "\n",
        "base.trainable = False\n",
        "model_4 = Sequential([\n",
        "    resize_and_rescale,\n",
        "    augmentation,\n",
        "    base,\n",
        "    Flatten(),\n",
        "    Dense(512, activation='relu'),\n",
        "    Dropout(.2),\n",
        "    Dense(256, activation='relu'),\n",
        "    Dropout(.1),\n",
        "    Dense(n_classes, activation='softmax'),\n",
        "])\n",
        "\n",
        "model_4.build((None, img_size[0], img_size[1], channels))\n",
        "model_4.summary()"
      ]
    },
    {
      "cell_type": "code",
      "execution_count": null,
      "metadata": {
        "id": "Jms4Q5q2EBjg"
      },
      "outputs": [],
      "source": [
        "# Training\n",
        "checkpoint = ModelCheckpoint(f\"/content/drive/MyDrive/Colab Notebooks/trab-final-best-inceptionv3.hdf5\",\n",
        "                            monitor='loss', verbose=1,\n",
        "                            save_best_only=True,\n",
        "                            mode='auto')\n",
        "\n",
        "model_4.compile(loss=criterion,\n",
        "            optimizer=sgd,\n",
        "            metrics=[\"accuracy\"],\n",
        "            )\n",
        "\n",
        "history = model_2.fit(ds_train,\n",
        "                  validation_data=ds_val,\n",
        "                  batch_size=batch_size,\n",
        "                  epochs=epochs,\n",
        "                  verbose=1,\n",
        "                  callbacks=[keras.callbacks.History(), early_stop, checkpoint])"
      ]
    },
    {
      "cell_type": "code",
      "execution_count": null,
      "metadata": {
        "id": "qNe3ocECEBjh"
      },
      "outputs": [],
      "source": [
        "plothist(history)"
      ]
    },
    {
      "cell_type": "code",
      "execution_count": null,
      "metadata": {
        "id": "4xULbviDEBjh"
      },
      "outputs": [],
      "source": [
        "model_test_acc=model_4.evaluate(ds_test,batch_size=4)"
      ]
    },
    {
      "cell_type": "markdown",
      "source": [
        "# K-fold Cross-validation"
      ],
      "metadata": {
        "id": "zykLHJ5EsWtU"
      }
    },
    {
      "cell_type": "code",
      "source": [
        "k = 5"
      ],
      "metadata": {
        "id": "f3pCXnTQsVGy"
      },
      "execution_count": null,
      "outputs": []
    },
    {
      "cell_type": "markdown",
      "metadata": {
        "id": "D1I7xrcysPPQ"
      },
      "source": [
        "# Referências\n",
        "\n",
        "[1] - [Choose an activation function for deep learning - Machine Learning Mastery](https://machinelearningmastery.com/choose-an-activation-function-for-deep-learning/)\n",
        "\n",
        "[2] - [Data augmentation - Tensorflow](https://www.tensorflow.org/tutorials/images/data_augmentation)\n"
      ]
    }
  ],
  "metadata": {
    "accelerator": "GPU",
    "colab": {
      "provenance": [],
      "gpuType": "T4",
      "include_colab_link": true
    },
    "kernelspec": {
      "display_name": "Python 3",
      "name": "python3"
    },
    "language_info": {
      "name": "python"
    }
  },
  "nbformat": 4,
  "nbformat_minor": 0
}