{
  "cells": [
    {
      "cell_type": "markdown",
      "metadata": {
        "id": "view-in-github",
        "colab_type": "text"
      },
      "source": [
        "<a href=\"https://colab.research.google.com/github/davidolima/car-model-classification/blob/main/Main.ipynb\" target=\"_parent\"><img src=\"https://colab.research.google.com/assets/colab-badge.svg\" alt=\"Open In Colab\"/></a>"
      ]
    },
    {
      "cell_type": "markdown",
      "metadata": {
        "id": "kaFm7O5emBli"
      },
      "source": [
        "# Trabalho final - Curso Deep Learning\n",
        "### Prof. Luciano de Rebouças\n",
        "### Aluno: David de Oliveira Lima"
      ]
    },
    {
      "cell_type": "code",
      "execution_count": 1,
      "metadata": {
        "colab": {
          "base_uri": "https://localhost:8080/"
        },
        "id": "42QmuG5eQAJO",
        "outputId": "f4c1246b-6cf7-491d-f122-fcaaf0fc073f"
      },
      "outputs": [
        {
          "output_type": "stream",
          "name": "stdout",
          "text": [
            "Drive already mounted at /content/drive; to attempt to forcibly remount, call drive.mount(\"/content/drive\", force_remount=True).\n"
          ]
        }
      ],
      "source": [
        "from google.colab import drive\n",
        "drive.mount('/content/drive')"
      ]
    },
    {
      "cell_type": "markdown",
      "metadata": {
        "id": "9QOvpNgNmBlm"
      },
      "source": [
        "# Imports"
      ]
    },
    {
      "cell_type": "code",
      "execution_count": 2,
      "metadata": {
        "id": "3L-GFL3hNAcU"
      },
      "outputs": [],
      "source": [
        "# !kaggle datasets download -d peterjun/car196 -p \"/content/drive/MyDrive/Colab Notebooks\"\n",
        "# %cd \"/content/drive/MyDrive/Colab Notebooks\"\n",
        "# !unzip car196.zip\n",
        "# !rm car196.zip"
      ]
    },
    {
      "cell_type": "code",
      "execution_count": 3,
      "metadata": {
        "id": "_DF7Ap67mBlo"
      },
      "outputs": [],
      "source": [
        "# Core\n",
        "import tensorflow as tf\n",
        "import tensorflow.keras as keras\n",
        "\n",
        "# Redes e optimizers\n",
        "from keras.applications import VGG19, ResNet50V2, EfficientNetB0, InceptionV3\n",
        "from keras.optimizers import Adam, SGD\n",
        "\n",
        "# Keras\n",
        "from keras import Sequential\n",
        "from keras.utils import to_categorical, image_dataset_from_directory, split_dataset\n",
        "from keras.preprocessing.image import ImageDataGenerator\n",
        "from keras.losses import sparse_categorical_crossentropy, categorical_crossentropy\n",
        "from keras.layers import *\n",
        "from keras.callbacks import ModelCheckpoint, EarlyStopping\n",
        "import tensorflow.keras.backend as K\n",
        "\n",
        "\n",
        "# Etc\n",
        "import pandas as pd\n",
        "import matplotlib.pyplot as plt\n",
        "import numpy as np\n",
        "# import tensorflow_datasets as tfds\n",
        "import scipy.io\n",
        "# import deeplake"
      ]
    },
    {
      "cell_type": "markdown",
      "metadata": {
        "id": "VZn9lBe8mBlr"
      },
      "source": [
        "# Parâmetros"
      ]
    },
    {
      "cell_type": "code",
      "execution_count": 4,
      "metadata": {
        "id": "z-TyoUXimBls"
      },
      "outputs": [],
      "source": [
        "n_classes = 196\n",
        "epochs = 50\n",
        "batch_size = 64\n",
        "n_splits = 5\n",
        "img_size = (224,224)\n",
        "es_patience = 8\n",
        "root = \"/content/drive/MyDrive/Colab Notebooks/car196/\"\n",
        "val_split = 0.2\n",
        "channels = 3"
      ]
    },
    {
      "cell_type": "markdown",
      "metadata": {
        "id": "XXJ_4EtumBlu"
      },
      "source": [
        "# Inicialização"
      ]
    },
    {
      "cell_type": "code",
      "execution_count": 17,
      "metadata": {
        "id": "LNNMjek1mBlw"
      },
      "outputs": [],
      "source": [
        "def plothist(hist):\n",
        "    plt.plot(hist.history['val_accuracy'])\n",
        "    plt.plot(hist.history['val_precision_m'])\n",
        "    plt.plot(hist.history['val_recall_m'])\n",
        "    plt.plot(hist.history['val_f1_m'])\n",
        "    plt.title('Several Metrics')\n",
        "    plt.ylabel('metrics')\n",
        "    plt.xlabel('epoch')\n",
        "    plt.legend(['Accuracy', 'Precision', 'Recall', 'F1_score'], loc='lower right')\n",
        "    plt.show()"
      ]
    },
    {
      "cell_type": "markdown",
      "source": [
        "# Métricas"
      ],
      "metadata": {
        "id": "iiGWAcpdtZQC"
      }
    },
    {
      "cell_type": "code",
      "source": [
        "def recall_m(y_true, y_pred):\n",
        "    true_positives = K.sum(K.round(K.clip(y_true * y_pred, 0, 1)))\n",
        "    possible_positives = K.sum(K.round(K.clip(y_true, 0, 1)))\n",
        "    recall = true_positives / (possible_positives + K.epsilon())\n",
        "    return recall\n",
        "\n",
        "def precision_m(y_true, y_pred):\n",
        "    true_positives = K.sum(K.round(K.clip(y_true * y_pred, 0, 1)))\n",
        "    predicted_positives = K.sum(K.round(K.clip(y_pred, 0, 1)))\n",
        "    precision = true_positives / (predicted_positives + K.epsilon())\n",
        "    return precision\n",
        "\n",
        "def f1_m(y_true, y_pred):\n",
        "    precision = precision_m(y_true, y_pred)\n",
        "    recall = recall_m(y_true, y_pred)\n",
        "    return 2*((precision*recall)/(precision+recall+K.epsilon()))"
      ],
      "metadata": {
        "id": "QCGi2wu4tYxR"
      },
      "execution_count": 6,
      "outputs": []
    },
    {
      "cell_type": "markdown",
      "metadata": {
        "id": "sqQvr4RjmBlz"
      },
      "source": [
        "## Data"
      ]
    },
    {
      "cell_type": "code",
      "execution_count": 7,
      "metadata": {
        "colab": {
          "base_uri": "https://localhost:8080/"
        },
        "id": "fGlYbAyQmBl2",
        "outputId": "8f88797b-3f26-4ea0-f1b5-c2a66c35ffa2"
      },
      "outputs": [
        {
          "output_type": "stream",
          "name": "stdout",
          "text": [
            "Found 8144 files belonging to 196 classes.\n",
            "Using 6516 files for training.\n",
            "Using 1628 files for validation.\n",
            "Test images\n",
            "Found 8041 files belonging to 196 classes.\n"
          ]
        }
      ],
      "source": [
        "# Carregando dataset\n",
        "ds_train, ds_val = image_dataset_from_directory(\n",
        "    root + \"train/\",\n",
        "    label_mode=\"categorical\",\n",
        "    color_mode=\"rgb\",\n",
        "    batch_size=batch_size,\n",
        "    seed=2023,\n",
        "    validation_split=val_split,\n",
        "    subset='both',\n",
        "    image_size=img_size,\n",
        "    shuffle=True,\n",
        ")\n",
        "\n",
        "print(\"Test images\")\n",
        "ds_test = image_dataset_from_directory(\n",
        "    root + \"test/\",\n",
        "    label_mode=\"categorical\",\n",
        "    color_mode=\"rgb\",\n",
        "    batch_size=batch_size,\n",
        "    seed=2023,\n",
        "    image_size=img_size,\n",
        "    shuffle=True,\n",
        ")\n",
        "\n",
        "# ds_train, ds_val = split_dataset(ds_train, left_size=1-val_split, right_size=val_split)\n",
        "#print(ds_train.,\"training images\")\n",
        "# print(len(ds_val),\"validation images\")\n",
        "# print(len(ds_test),\"testing images\")"
      ]
    },
    {
      "cell_type": "code",
      "execution_count": 8,
      "metadata": {
        "id": "QRqHnTtimBl3"
      },
      "outputs": [],
      "source": [
        "# Augmentation\n",
        "resize_and_rescale = tf.keras.Sequential([\n",
        "  Resizing(img_size[0], img_size[1]),\n",
        "  Rescaling(1./255)\n",
        "])\n",
        "\n",
        "augmentation = keras.Sequential([\n",
        "    # Resizing(img_size[0],img_size[1]),\n",
        "    # Rescaling(1./255),\n",
        "    RandomRotation(0.30),\n",
        "    RandomFlip(\"horizontal\"),\n",
        "    RandomTranslation(height_factor=0.1, width_factor=0.1),\n",
        "    ])"
      ]
    },
    {
      "cell_type": "markdown",
      "metadata": {
        "id": "S8Xsn9zdmBl7"
      },
      "source": [
        "# Treinamento das redes"
      ]
    },
    {
      "cell_type": "markdown",
      "metadata": {
        "id": "9Ey20DqemBl8"
      },
      "source": [
        "## VGG19"
      ]
    },
    {
      "cell_type": "code",
      "source": [
        "adam = Adam(.001,\n",
        "           beta_1=0.9,\n",
        "           beta_2=0.999,\n",
        "           )\n",
        "\n",
        "sgd = SGD(\n",
        "    5e-3,\n",
        "    momentum=.9\n",
        ")\n",
        "criterion = categorical_crossentropy\n",
        "early_stop = EarlyStopping(monitor='val_loss',\n",
        "                           mode='min', verbose=1,\n",
        "                           patience=es_patience,\n",
        "                           restore_best_weights = True\n",
        "                           )"
      ],
      "metadata": {
        "id": "xkZ9BuoVtqx6"
      },
      "execution_count": 9,
      "outputs": []
    },
    {
      "cell_type": "code",
      "execution_count": 14,
      "metadata": {
        "colab": {
          "base_uri": "https://localhost:8080/"
        },
        "id": "atNb2AMgmBl-",
        "outputId": "9d56670a-e850-41a6-9d5d-1dec18273830"
      },
      "outputs": [
        {
          "output_type": "stream",
          "name": "stdout",
          "text": [
            "Model: \"sequential_4\"\n",
            "_________________________________________________________________\n",
            " Layer (type)                Output Shape              Param #   \n",
            "=================================================================\n",
            " sequential (Sequential)     (None, 224, 224, 3)       0         \n",
            "                                                                 \n",
            " sequential_1 (Sequential)   (None, 224, 224, 3)       0         \n",
            "                                                                 \n",
            " vgg19 (Functional)          (None, 7, 7, 512)         20024384  \n",
            "                                                                 \n",
            " flatten_2 (Flatten)         (None, 25088)             0         \n",
            "                                                                 \n",
            " dense_8 (Dense)             (None, 196)               4917444   \n",
            "                                                                 \n",
            "=================================================================\n",
            "Total params: 24,941,828\n",
            "Trainable params: 4,917,444\n",
            "Non-trainable params: 20,024,384\n",
            "_________________________________________________________________\n"
          ]
        }
      ],
      "source": [
        "base = VGG19(\n",
        "    include_top=False,\n",
        "    weights=\"imagenet\", # transfer learning da imagenet\n",
        "    input_tensor=None,\n",
        "    input_shape=(img_size[0],img_size[1],3),\n",
        "    pooling=None,\n",
        "    classes=n_classes,\n",
        "    classifier_activation='softmax',\n",
        ")\n",
        "\n",
        "for l in base.layers:\n",
        "  l.trainable = False\n",
        "model_1 = Sequential([\n",
        "    resize_and_rescale,\n",
        "    augmentation,\n",
        "    base,\n",
        "    Flatten(),\n",
        "    # Dense(2048,activation='relu'),\n",
        "    # Dropout(.2),\n",
        "    # Dense(2048, activation='relu'),\n",
        "    # Dropout(.2),\n",
        "    # Dense(1024, activation='relu'),\n",
        "    Dense(n_classes, activation='softmax'),\n",
        "])\n",
        "model_1.build((None, img_size[0], img_size[1], channels))\n",
        "model_1.summary()"
      ]
    },
    {
      "cell_type": "code",
      "execution_count": 15,
      "metadata": {
        "colab": {
          "base_uri": "https://localhost:8080/"
        },
        "id": "wspBiEzjmBl_",
        "outputId": "5a772855-4fc0-46bb-ace2-864405baac59"
      },
      "outputs": [
        {
          "output_type": "stream",
          "name": "stdout",
          "text": [
            "Epoch 1/50\n",
            "102/102 [==============================] - ETA: 0s - loss: 7.2779 - accuracy: 0.0098 - recall_m: 1.5319e-04 - precision_m: 0.0016 - f1_m: 2.8011e-04\n",
            "Epoch 1: loss improved from inf to 7.27793, saving model to /content/trab-final-best-vgg.hdf5\n",
            "102/102 [==============================] - 53s 497ms/step - loss: 7.2779 - accuracy: 0.0098 - recall_m: 1.5319e-04 - precision_m: 0.0016 - f1_m: 2.8011e-04 - val_loss: 8.2746 - val_accuracy: 0.0190 - val_recall_m: 0.0000e+00 - val_precision_m: 0.0000e+00 - val_f1_m: 0.0000e+00\n",
            "Epoch 2/50\n",
            "102/102 [==============================] - ETA: 0s - loss: 7.3016 - accuracy: 0.0226 - recall_m: 4.5956e-04 - precision_m: 0.0229 - f1_m: 8.9597e-04\n",
            "Epoch 2: loss did not improve from 7.27793\n",
            "102/102 [==============================] - 48s 445ms/step - loss: 7.3016 - accuracy: 0.0226 - recall_m: 4.5956e-04 - precision_m: 0.0229 - f1_m: 8.9597e-04 - val_loss: 7.4305 - val_accuracy: 0.0405 - val_recall_m: 0.0012 - val_precision_m: 0.0769 - val_f1_m: 0.0024\n",
            "Epoch 3/50\n",
            "102/102 [==============================] - ETA: 0s - loss: 6.7360 - accuracy: 0.0450 - recall_m: 0.0029 - precision_m: 0.1390 - f1_m: 0.0057\n",
            "Epoch 3: loss improved from 7.27793 to 6.73597, saving model to /content/trab-final-best-vgg.hdf5\n",
            "102/102 [==============================] - 49s 466ms/step - loss: 6.7360 - accuracy: 0.0450 - recall_m: 0.0029 - precision_m: 0.1390 - f1_m: 0.0057 - val_loss: 6.7887 - val_accuracy: 0.0473 - val_recall_m: 0.0036 - val_precision_m: 0.1859 - val_f1_m: 0.0070\n",
            "Epoch 4/50\n",
            "102/102 [==============================] - ETA: 0s - loss: 6.3053 - accuracy: 0.0585 - recall_m: 0.0043 - precision_m: 0.2029 - f1_m: 0.0083\n",
            "Epoch 4: loss improved from 6.73597 to 6.30528, saving model to /content/trab-final-best-vgg.hdf5\n",
            "102/102 [==============================] - 51s 470ms/step - loss: 6.3053 - accuracy: 0.0585 - recall_m: 0.0043 - precision_m: 0.2029 - f1_m: 0.0083 - val_loss: 6.0738 - val_accuracy: 0.0553 - val_recall_m: 0.0090 - val_precision_m: 0.3077 - val_f1_m: 0.0173\n",
            "Epoch 5/50\n",
            "102/102 [==============================] - ETA: 0s - loss: 6.2971 - accuracy: 0.0711 - recall_m: 0.0101 - precision_m: 0.2931 - f1_m: 0.0194\n",
            "Epoch 5: loss improved from 6.30528 to 6.29705, saving model to /content/trab-final-best-vgg.hdf5\n",
            "102/102 [==============================] - 56s 532ms/step - loss: 6.2971 - accuracy: 0.0711 - recall_m: 0.0101 - precision_m: 0.2931 - f1_m: 0.0194 - val_loss: 6.3899 - val_accuracy: 0.0602 - val_recall_m: 0.0120 - val_precision_m: 0.2747 - val_f1_m: 0.0225\n",
            "Epoch 6/50\n",
            "102/102 [==============================] - ETA: 0s - loss: 5.7278 - accuracy: 0.0935 - recall_m: 0.0166 - precision_m: 0.4430 - f1_m: 0.0316\n",
            "Epoch 6: loss improved from 6.29705 to 5.72784, saving model to /content/trab-final-best-vgg.hdf5\n",
            "102/102 [==============================] - 52s 491ms/step - loss: 5.7278 - accuracy: 0.0935 - recall_m: 0.0166 - precision_m: 0.4430 - f1_m: 0.0316 - val_loss: 6.2972 - val_accuracy: 0.0541 - val_recall_m: 0.0204 - val_precision_m: 0.1666 - val_f1_m: 0.0359\n",
            "Epoch 7/50\n",
            "102/102 [==============================] - ETA: 0s - loss: 5.8251 - accuracy: 0.1013 - recall_m: 0.0225 - precision_m: 0.4505 - f1_m: 0.0423\n",
            "Epoch 7: loss did not improve from 5.72784\n",
            "102/102 [==============================] - 46s 434ms/step - loss: 5.8251 - accuracy: 0.1013 - recall_m: 0.0225 - precision_m: 0.4505 - f1_m: 0.0423 - val_loss: 5.5885 - val_accuracy: 0.0866 - val_recall_m: 0.0280 - val_precision_m: 0.3647 - val_f1_m: 0.0514\n",
            "Epoch 8/50\n",
            "102/102 [==============================] - ETA: 0s - loss: 5.5518 - accuracy: 0.1114 - recall_m: 0.0245 - precision_m: 0.4679 - f1_m: 0.0460\n",
            "Epoch 8: loss improved from 5.72784 to 5.55183, saving model to /content/trab-final-best-vgg.hdf5\n",
            "102/102 [==============================] - 50s 470ms/step - loss: 5.5518 - accuracy: 0.1114 - recall_m: 0.0245 - precision_m: 0.4679 - f1_m: 0.0460 - val_loss: 5.6802 - val_accuracy: 0.0952 - val_recall_m: 0.0308 - val_precision_m: 0.4521 - val_f1_m: 0.0568\n",
            "Epoch 9/50\n",
            "102/102 [==============================] - ETA: 0s - loss: 5.4825 - accuracy: 0.1274 - recall_m: 0.0331 - precision_m: 0.4853 - f1_m: 0.0614\n",
            "Epoch 9: loss improved from 5.55183 to 5.48247, saving model to /content/trab-final-best-vgg.hdf5\n",
            "102/102 [==============================] - 54s 509ms/step - loss: 5.4825 - accuracy: 0.1274 - recall_m: 0.0331 - precision_m: 0.4853 - f1_m: 0.0614 - val_loss: 5.8533 - val_accuracy: 0.1063 - val_recall_m: 0.0420 - val_precision_m: 0.3775 - val_f1_m: 0.0746\n",
            "Epoch 10/50\n",
            "102/102 [==============================] - ETA: 0s - loss: 5.3961 - accuracy: 0.1286 - recall_m: 0.0370 - precision_m: 0.4558 - f1_m: 0.0673\n",
            "Epoch 10: loss improved from 5.48247 to 5.39611, saving model to /content/trab-final-best-vgg.hdf5\n",
            "102/102 [==============================] - 50s 464ms/step - loss: 5.3961 - accuracy: 0.1286 - recall_m: 0.0370 - precision_m: 0.4558 - f1_m: 0.0673 - val_loss: 5.7523 - val_accuracy: 0.1271 - val_recall_m: 0.0380 - val_precision_m: 0.4206 - val_f1_m: 0.0691\n",
            "Epoch 11/50\n",
            "102/102 [==============================] - ETA: 0s - loss: 5.4297 - accuracy: 0.1433 - recall_m: 0.0476 - precision_m: 0.4996 - f1_m: 0.0854\n",
            "Epoch 11: loss did not improve from 5.39611\n",
            "102/102 [==============================] - 46s 439ms/step - loss: 5.4297 - accuracy: 0.1433 - recall_m: 0.0476 - precision_m: 0.4996 - f1_m: 0.0854 - val_loss: 5.7209 - val_accuracy: 0.1050 - val_recall_m: 0.0404 - val_precision_m: 0.3275 - val_f1_m: 0.0712\n",
            "Epoch 12/50\n",
            "102/102 [==============================] - ETA: 0s - loss: 5.2649 - accuracy: 0.1484 - recall_m: 0.0490 - precision_m: 0.4705 - f1_m: 0.0874\n",
            "Epoch 12: loss improved from 5.39611 to 5.26488, saving model to /content/trab-final-best-vgg.hdf5\n",
            "102/102 [==============================] - 54s 519ms/step - loss: 5.2649 - accuracy: 0.1484 - recall_m: 0.0490 - precision_m: 0.4705 - f1_m: 0.0874 - val_loss: 5.2424 - val_accuracy: 0.1511 - val_recall_m: 0.0482 - val_precision_m: 0.4607 - val_f1_m: 0.0864\n",
            "Epoch 13/50\n",
            "102/102 [==============================] - ETA: 0s - loss: 5.1338 - accuracy: 0.1671 - recall_m: 0.0593 - precision_m: 0.4993 - f1_m: 0.1048\n",
            "Epoch 13: loss improved from 5.26488 to 5.13380, saving model to /content/trab-final-best-vgg.hdf5\n",
            "102/102 [==============================] - 57s 547ms/step - loss: 5.1338 - accuracy: 0.1671 - recall_m: 0.0593 - precision_m: 0.4993 - f1_m: 0.1048 - val_loss: 5.6234 - val_accuracy: 0.1327 - val_recall_m: 0.0513 - val_precision_m: 0.4923 - val_f1_m: 0.0919\n",
            "Epoch 14/50\n",
            "102/102 [==============================] - ETA: 0s - loss: 4.9519 - accuracy: 0.1636 - recall_m: 0.0605 - precision_m: 0.4975 - f1_m: 0.1068\n",
            "Epoch 14: loss improved from 5.13380 to 4.95194, saving model to /content/trab-final-best-vgg.hdf5\n",
            "102/102 [==============================] - 54s 516ms/step - loss: 4.9519 - accuracy: 0.1636 - recall_m: 0.0605 - precision_m: 0.4975 - f1_m: 0.1068 - val_loss: 5.3777 - val_accuracy: 0.1419 - val_recall_m: 0.0562 - val_precision_m: 0.4338 - val_f1_m: 0.0983\n",
            "Epoch 15/50\n",
            "102/102 [==============================] - ETA: 0s - loss: 5.0122 - accuracy: 0.1760 - recall_m: 0.0719 - precision_m: 0.5640 - f1_m: 0.1259\n",
            "Epoch 15: loss did not improve from 4.95194\n",
            "102/102 [==============================] - 48s 462ms/step - loss: 5.0122 - accuracy: 0.1760 - recall_m: 0.0719 - precision_m: 0.5640 - f1_m: 0.1259 - val_loss: 5.7776 - val_accuracy: 0.1499 - val_recall_m: 0.0761 - val_precision_m: 0.4245 - val_f1_m: 0.1276\n",
            "Epoch 16/50\n",
            "102/102 [==============================] - ETA: 0s - loss: 5.0684 - accuracy: 0.1820 - recall_m: 0.0760 - precision_m: 0.4855 - f1_m: 0.1300\n",
            "Epoch 16: loss did not improve from 4.95194\n",
            "102/102 [==============================] - 47s 441ms/step - loss: 5.0684 - accuracy: 0.1820 - recall_m: 0.0760 - precision_m: 0.4855 - f1_m: 0.1300 - val_loss: 5.3859 - val_accuracy: 0.1560 - val_recall_m: 0.0728 - val_precision_m: 0.3784 - val_f1_m: 0.1212\n",
            "Epoch 17/50\n",
            "102/102 [==============================] - ETA: 0s - loss: 4.8267 - accuracy: 0.1883 - recall_m: 0.0795 - precision_m: 0.5130 - f1_m: 0.1362\n",
            "Epoch 17: loss improved from 4.95194 to 4.82674, saving model to /content/trab-final-best-vgg.hdf5\n",
            "102/102 [==============================] - 49s 465ms/step - loss: 4.8267 - accuracy: 0.1883 - recall_m: 0.0795 - precision_m: 0.5130 - f1_m: 0.1362 - val_loss: 5.2431 - val_accuracy: 0.1726 - val_recall_m: 0.0919 - val_precision_m: 0.4476 - val_f1_m: 0.1510\n",
            "Epoch 18/50\n",
            "102/102 [==============================] - ETA: 0s - loss: 4.7013 - accuracy: 0.2023 - recall_m: 0.0898 - precision_m: 0.5290 - f1_m: 0.1520\n",
            "Epoch 18: loss improved from 4.82674 to 4.70132, saving model to /content/trab-final-best-vgg.hdf5\n",
            "102/102 [==============================] - 54s 518ms/step - loss: 4.7013 - accuracy: 0.2023 - recall_m: 0.0898 - precision_m: 0.5290 - f1_m: 0.1520 - val_loss: 5.5888 - val_accuracy: 0.1407 - val_recall_m: 0.0771 - val_precision_m: 0.2972 - val_f1_m: 0.1213\n",
            "Epoch 19/50\n",
            "102/102 [==============================] - ETA: 0s - loss: 4.5993 - accuracy: 0.1980 - recall_m: 0.0922 - precision_m: 0.5175 - f1_m: 0.1549\n",
            "Epoch 19: loss improved from 4.70132 to 4.59934, saving model to /content/trab-final-best-vgg.hdf5\n",
            "102/102 [==============================] - 50s 473ms/step - loss: 4.5993 - accuracy: 0.1980 - recall_m: 0.0922 - precision_m: 0.5175 - f1_m: 0.1549 - val_loss: 5.1903 - val_accuracy: 0.1806 - val_recall_m: 0.0928 - val_precision_m: 0.4617 - val_f1_m: 0.1531\n",
            "Epoch 20/50\n",
            "102/102 [==============================] - ETA: 0s - loss: 4.5241 - accuracy: 0.2164 - recall_m: 0.1023 - precision_m: 0.5538 - f1_m: 0.1707\n",
            "Epoch 20: loss improved from 4.59934 to 4.52410, saving model to /content/trab-final-best-vgg.hdf5\n",
            "102/102 [==============================] - 52s 492ms/step - loss: 4.5241 - accuracy: 0.2164 - recall_m: 0.1023 - precision_m: 0.5538 - f1_m: 0.1707 - val_loss: 5.3603 - val_accuracy: 0.1456 - val_recall_m: 0.0806 - val_precision_m: 0.3419 - val_f1_m: 0.1292\n",
            "Epoch 21/50\n",
            "102/102 [==============================] - ETA: 0s - loss: 4.3731 - accuracy: 0.2288 - recall_m: 0.1049 - precision_m: 0.5487 - f1_m: 0.1742\n",
            "Epoch 21: loss improved from 4.52410 to 4.37310, saving model to /content/trab-final-best-vgg.hdf5\n",
            "102/102 [==============================] - 58s 554ms/step - loss: 4.3731 - accuracy: 0.2288 - recall_m: 0.1049 - precision_m: 0.5487 - f1_m: 0.1742 - val_loss: 4.7323 - val_accuracy: 0.1806 - val_recall_m: 0.0902 - val_precision_m: 0.4660 - val_f1_m: 0.1496\n",
            "Epoch 22/50\n",
            "102/102 [==============================] - ETA: 0s - loss: 4.2444 - accuracy: 0.2382 - recall_m: 0.1199 - precision_m: 0.5621 - f1_m: 0.1962\n",
            "Epoch 22: loss improved from 4.37310 to 4.24438, saving model to /content/trab-final-best-vgg.hdf5\n",
            "102/102 [==============================] - 54s 517ms/step - loss: 4.2444 - accuracy: 0.2382 - recall_m: 0.1199 - precision_m: 0.5621 - f1_m: 0.1962 - val_loss: 5.0763 - val_accuracy: 0.1714 - val_recall_m: 0.0943 - val_precision_m: 0.4258 - val_f1_m: 0.1531\n",
            "Epoch 23/50\n",
            "102/102 [==============================] - ETA: 0s - loss: 4.3316 - accuracy: 0.2342 - recall_m: 0.1189 - precision_m: 0.5436 - f1_m: 0.1930\n",
            "Epoch 23: loss did not improve from 4.24438\n",
            "102/102 [==============================] - 47s 439ms/step - loss: 4.3316 - accuracy: 0.2342 - recall_m: 0.1189 - precision_m: 0.5436 - f1_m: 0.1930 - val_loss: 4.9813 - val_accuracy: 0.1732 - val_recall_m: 0.0885 - val_precision_m: 0.3208 - val_f1_m: 0.1379\n",
            "Epoch 24/50\n",
            "102/102 [==============================] - ETA: 0s - loss: 4.2961 - accuracy: 0.2429 - recall_m: 0.1215 - precision_m: 0.5417 - f1_m: 0.1966\n",
            "Epoch 24: loss did not improve from 4.24438\n",
            "102/102 [==============================] - 46s 434ms/step - loss: 4.2961 - accuracy: 0.2429 - recall_m: 0.1215 - precision_m: 0.5417 - f1_m: 0.1966 - val_loss: 5.0664 - val_accuracy: 0.1867 - val_recall_m: 0.0919 - val_precision_m: 0.3909 - val_f1_m: 0.1471\n",
            "Epoch 25/50\n",
            "102/102 [==============================] - ETA: 0s - loss: 4.2617 - accuracy: 0.2449 - recall_m: 0.1203 - precision_m: 0.5447 - f1_m: 0.1952\n",
            "Epoch 25: loss did not improve from 4.24438\n",
            "102/102 [==============================] - 47s 446ms/step - loss: 4.2617 - accuracy: 0.2449 - recall_m: 0.1203 - precision_m: 0.5447 - f1_m: 0.1952 - val_loss: 4.6759 - val_accuracy: 0.2107 - val_recall_m: 0.1153 - val_precision_m: 0.4458 - val_f1_m: 0.1822\n",
            "Epoch 26/50\n",
            "102/102 [==============================] - ETA: 0s - loss: 4.1618 - accuracy: 0.2534 - recall_m: 0.1320 - precision_m: 0.5601 - f1_m: 0.2119\n",
            "Epoch 26: loss improved from 4.24438 to 4.16177, saving model to /content/trab-final-best-vgg.hdf5\n",
            "102/102 [==============================] - 54s 512ms/step - loss: 4.1618 - accuracy: 0.2534 - recall_m: 0.1320 - precision_m: 0.5601 - f1_m: 0.2119 - val_loss: 5.2442 - val_accuracy: 0.1572 - val_recall_m: 0.0948 - val_precision_m: 0.2835 - val_f1_m: 0.1412\n",
            "Epoch 27/50\n",
            "102/102 [==============================] - ETA: 0s - loss: 4.0979 - accuracy: 0.2615 - recall_m: 0.1393 - precision_m: 0.5921 - f1_m: 0.2240\n",
            "Epoch 27: loss improved from 4.16177 to 4.09794, saving model to /content/trab-final-best-vgg.hdf5\n",
            "102/102 [==============================] - 49s 468ms/step - loss: 4.0979 - accuracy: 0.2615 - recall_m: 0.1393 - precision_m: 0.5921 - f1_m: 0.2240 - val_loss: 4.8676 - val_accuracy: 0.2002 - val_recall_m: 0.1178 - val_precision_m: 0.3949 - val_f1_m: 0.1799\n",
            "Epoch 28/50\n",
            "102/102 [==============================] - ETA: 0s - loss: 4.0286 - accuracy: 0.2637 - recall_m: 0.1412 - precision_m: 0.5803 - f1_m: 0.2254\n",
            "Epoch 28: loss improved from 4.09794 to 4.02865, saving model to /content/trab-final-best-vgg.hdf5\n",
            "102/102 [==============================] - 58s 557ms/step - loss: 4.0286 - accuracy: 0.2637 - recall_m: 0.1412 - precision_m: 0.5803 - f1_m: 0.2254 - val_loss: 4.5847 - val_accuracy: 0.2113 - val_recall_m: 0.1239 - val_precision_m: 0.3807 - val_f1_m: 0.1860\n",
            "Epoch 29/50\n",
            "102/102 [==============================] - ETA: 0s - loss: 4.0268 - accuracy: 0.2650 - recall_m: 0.1498 - precision_m: 0.5672 - f1_m: 0.2354\n",
            "Epoch 29: loss improved from 4.02865 to 4.02676, saving model to /content/trab-final-best-vgg.hdf5\n",
            "102/102 [==============================] - 59s 563ms/step - loss: 4.0268 - accuracy: 0.2650 - recall_m: 0.1498 - precision_m: 0.5672 - f1_m: 0.2354 - val_loss: 4.8851 - val_accuracy: 0.2021 - val_recall_m: 0.1153 - val_precision_m: 0.4193 - val_f1_m: 0.1791\n",
            "Epoch 30/50\n",
            "102/102 [==============================] - ETA: 0s - loss: 4.0132 - accuracy: 0.2756 - recall_m: 0.1588 - precision_m: 0.5930 - f1_m: 0.2486\n",
            "Epoch 30: loss improved from 4.02676 to 4.01324, saving model to /content/trab-final-best-vgg.hdf5\n",
            "102/102 [==============================] - 54s 509ms/step - loss: 4.0132 - accuracy: 0.2756 - recall_m: 0.1588 - precision_m: 0.5930 - f1_m: 0.2486 - val_loss: 4.8012 - val_accuracy: 0.2021 - val_recall_m: 0.1191 - val_precision_m: 0.3963 - val_f1_m: 0.1821\n",
            "Epoch 31/50\n",
            "102/102 [==============================] - ETA: 0s - loss: 3.9591 - accuracy: 0.2793 - recall_m: 0.1657 - precision_m: 0.5959 - f1_m: 0.2575\n",
            "Epoch 31: loss improved from 4.01324 to 3.95912, saving model to /content/trab-final-best-vgg.hdf5\n",
            "102/102 [==============================] - 58s 558ms/step - loss: 3.9591 - accuracy: 0.2793 - recall_m: 0.1657 - precision_m: 0.5959 - f1_m: 0.2575 - val_loss: 4.8879 - val_accuracy: 0.1953 - val_recall_m: 0.1235 - val_precision_m: 0.4384 - val_f1_m: 0.1915\n",
            "Epoch 32/50\n",
            "102/102 [==============================] - ETA: 0s - loss: 4.0226 - accuracy: 0.2675 - recall_m: 0.1511 - precision_m: 0.5442 - f1_m: 0.2346\n",
            "Epoch 32: loss did not improve from 3.95912\n",
            "102/102 [==============================] - 48s 451ms/step - loss: 4.0226 - accuracy: 0.2675 - recall_m: 0.1511 - precision_m: 0.5442 - f1_m: 0.2346 - val_loss: 4.6459 - val_accuracy: 0.2174 - val_recall_m: 0.1341 - val_precision_m: 0.4606 - val_f1_m: 0.2065\n",
            "Epoch 33/50\n",
            "102/102 [==============================] - ETA: 0s - loss: 3.8602 - accuracy: 0.2897 - recall_m: 0.1707 - precision_m: 0.5917 - f1_m: 0.2632\n",
            "Epoch 33: loss improved from 3.95912 to 3.86022, saving model to /content/trab-final-best-vgg.hdf5\n",
            "102/102 [==============================] - 54s 512ms/step - loss: 3.8602 - accuracy: 0.2897 - recall_m: 0.1707 - precision_m: 0.5917 - f1_m: 0.2632 - val_loss: 4.7987 - val_accuracy: 0.2101 - val_recall_m: 0.1367 - val_precision_m: 0.4270 - val_f1_m: 0.2061\n",
            "Epoch 34/50\n",
            "102/102 [==============================] - ETA: 0s - loss: 3.7813 - accuracy: 0.2957 - recall_m: 0.1693 - precision_m: 0.5853 - f1_m: 0.2612\n",
            "Epoch 34: loss improved from 3.86022 to 3.78127, saving model to /content/trab-final-best-vgg.hdf5\n",
            "102/102 [==============================] - 56s 536ms/step - loss: 3.7813 - accuracy: 0.2957 - recall_m: 0.1693 - precision_m: 0.5853 - f1_m: 0.2612 - val_loss: 5.0382 - val_accuracy: 0.1959 - val_recall_m: 0.1320 - val_precision_m: 0.3407 - val_f1_m: 0.1898\n",
            "Epoch 35/50\n",
            "102/102 [==============================] - ETA: 0s - loss: 3.9075 - accuracy: 0.2893 - recall_m: 0.1692 - precision_m: 0.5732 - f1_m: 0.2596\n",
            "Epoch 35: loss did not improve from 3.78127\n",
            "102/102 [==============================] - 49s 462ms/step - loss: 3.9075 - accuracy: 0.2893 - recall_m: 0.1692 - precision_m: 0.5732 - f1_m: 0.2596 - val_loss: 4.4495 - val_accuracy: 0.2383 - val_recall_m: 0.1521 - val_precision_m: 0.4206 - val_f1_m: 0.2225\n",
            "Epoch 36/50\n",
            "102/102 [==============================] - ETA: 0s - loss: 3.8040 - accuracy: 0.2967 - recall_m: 0.1761 - precision_m: 0.5964 - f1_m: 0.2697\n",
            "Epoch 36: loss did not improve from 3.78127\n",
            "102/102 [==============================] - 47s 444ms/step - loss: 3.8040 - accuracy: 0.2967 - recall_m: 0.1761 - precision_m: 0.5964 - f1_m: 0.2697 - val_loss: 4.7759 - val_accuracy: 0.2187 - val_recall_m: 0.1497 - val_precision_m: 0.3969 - val_f1_m: 0.2163\n",
            "Epoch 37/50\n",
            "102/102 [==============================] - ETA: 0s - loss: 3.7823 - accuracy: 0.3059 - recall_m: 0.1854 - precision_m: 0.5922 - f1_m: 0.2804\n",
            "Epoch 37: loss did not improve from 3.78127\n",
            "102/102 [==============================] - 46s 436ms/step - loss: 3.7823 - accuracy: 0.3059 - recall_m: 0.1854 - precision_m: 0.5922 - f1_m: 0.2804 - val_loss: 4.6395 - val_accuracy: 0.2217 - val_recall_m: 0.1347 - val_precision_m: 0.4371 - val_f1_m: 0.2049\n",
            "Epoch 38/50\n",
            "102/102 [==============================] - ETA: 0s - loss: 3.6623 - accuracy: 0.3066 - recall_m: 0.1877 - precision_m: 0.5782 - f1_m: 0.2817\n",
            "Epoch 38: loss improved from 3.78127 to 3.66226, saving model to /content/trab-final-best-vgg.hdf5\n",
            "102/102 [==============================] - 49s 467ms/step - loss: 3.6623 - accuracy: 0.3066 - recall_m: 0.1877 - precision_m: 0.5782 - f1_m: 0.2817 - val_loss: 4.3149 - val_accuracy: 0.2365 - val_recall_m: 0.1575 - val_precision_m: 0.4333 - val_f1_m: 0.2296\n",
            "Epoch 39/50\n",
            "102/102 [==============================] - ETA: 0s - loss: 3.5801 - accuracy: 0.3161 - recall_m: 0.1908 - precision_m: 0.5872 - f1_m: 0.2863\n",
            "Epoch 39: loss improved from 3.66226 to 3.58011, saving model to /content/trab-final-best-vgg.hdf5\n",
            "102/102 [==============================] - 50s 479ms/step - loss: 3.5801 - accuracy: 0.3161 - recall_m: 0.1908 - precision_m: 0.5872 - f1_m: 0.2863 - val_loss: 4.4332 - val_accuracy: 0.2303 - val_recall_m: 0.1439 - val_precision_m: 0.4141 - val_f1_m: 0.2130\n",
            "Epoch 40/50\n",
            "102/102 [==============================] - ETA: 0s - loss: 3.5660 - accuracy: 0.3194 - recall_m: 0.1989 - precision_m: 0.6083 - f1_m: 0.2985\n",
            "Epoch 40: loss improved from 3.58011 to 3.56599, saving model to /content/trab-final-best-vgg.hdf5\n",
            "102/102 [==============================] - 52s 499ms/step - loss: 3.5660 - accuracy: 0.3194 - recall_m: 0.1989 - precision_m: 0.6083 - f1_m: 0.2985 - val_loss: 4.4223 - val_accuracy: 0.2445 - val_recall_m: 0.1682 - val_precision_m: 0.4850 - val_f1_m: 0.2489\n",
            "Epoch 41/50\n",
            "102/102 [==============================] - ETA: 0s - loss: 3.5223 - accuracy: 0.3198 - recall_m: 0.2034 - precision_m: 0.6224 - f1_m: 0.3049\n",
            "Epoch 41: loss improved from 3.56599 to 3.52229, saving model to /content/trab-final-best-vgg.hdf5\n",
            "102/102 [==============================] - 55s 523ms/step - loss: 3.5223 - accuracy: 0.3198 - recall_m: 0.2034 - precision_m: 0.6224 - f1_m: 0.3049 - val_loss: 4.3327 - val_accuracy: 0.2389 - val_recall_m: 0.1458 - val_precision_m: 0.3793 - val_f1_m: 0.2100\n",
            "Epoch 42/50\n",
            "102/102 [==============================] - ETA: 0s - loss: 3.5345 - accuracy: 0.3346 - recall_m: 0.2077 - precision_m: 0.6127 - f1_m: 0.3082\n",
            "Epoch 42: loss did not improve from 3.52229\n",
            "102/102 [==============================] - 48s 456ms/step - loss: 3.5345 - accuracy: 0.3346 - recall_m: 0.2077 - precision_m: 0.6127 - f1_m: 0.3082 - val_loss: 4.4578 - val_accuracy: 0.2371 - val_recall_m: 0.1475 - val_precision_m: 0.4015 - val_f1_m: 0.2147\n",
            "Epoch 43/50\n",
            "102/102 [==============================] - ETA: 0s - loss: 3.5399 - accuracy: 0.3254 - recall_m: 0.2005 - precision_m: 0.6039 - f1_m: 0.2988\n",
            "Epoch 43: loss did not improve from 3.52229\n",
            "102/102 [==============================] - 48s 443ms/step - loss: 3.5399 - accuracy: 0.3254 - recall_m: 0.2005 - precision_m: 0.6039 - f1_m: 0.2988 - val_loss: 4.7025 - val_accuracy: 0.2328 - val_recall_m: 0.1607 - val_precision_m: 0.4148 - val_f1_m: 0.2305\n",
            "Epoch 44/50\n",
            "102/102 [==============================] - ETA: 0s - loss: 3.5294 - accuracy: 0.3339 - recall_m: 0.2176 - precision_m: 0.6014 - f1_m: 0.3179\n",
            "Epoch 44: loss did not improve from 3.52229\n",
            "102/102 [==============================] - 46s 435ms/step - loss: 3.5294 - accuracy: 0.3339 - recall_m: 0.2176 - precision_m: 0.6014 - f1_m: 0.3179 - val_loss: 4.6843 - val_accuracy: 0.2217 - val_recall_m: 0.1480 - val_precision_m: 0.3792 - val_f1_m: 0.2116\n",
            "Epoch 45/50\n",
            "102/102 [==============================] - ETA: 0s - loss: 3.4864 - accuracy: 0.3333 - recall_m: 0.2079 - precision_m: 0.6011 - f1_m: 0.3071\n",
            "Epoch 45: loss improved from 3.52229 to 3.48639, saving model to /content/trab-final-best-vgg.hdf5\n",
            "102/102 [==============================] - 54s 521ms/step - loss: 3.4864 - accuracy: 0.3333 - recall_m: 0.2079 - precision_m: 0.6011 - f1_m: 0.3071 - val_loss: 4.8132 - val_accuracy: 0.2144 - val_recall_m: 0.1477 - val_precision_m: 0.3682 - val_f1_m: 0.2097\n",
            "Epoch 46/50\n",
            "102/102 [==============================] - ETA: 0s - loss: 3.5500 - accuracy: 0.3399 - recall_m: 0.2254 - precision_m: 0.6206 - f1_m: 0.3289Restoring model weights from the end of the best epoch: 38.\n",
            "\n",
            "Epoch 46: loss did not improve from 3.48639\n",
            "102/102 [==============================] - 48s 455ms/step - loss: 3.5500 - accuracy: 0.3399 - recall_m: 0.2254 - precision_m: 0.6206 - f1_m: 0.3289 - val_loss: 4.4984 - val_accuracy: 0.2242 - val_recall_m: 0.1569 - val_precision_m: 0.4168 - val_f1_m: 0.2267\n",
            "Epoch 46: early stopping\n"
          ]
        }
      ],
      "source": [
        "# Training\n",
        "checkpoint = ModelCheckpoint(f\"/content/trab-final-best-vgg.hdf5\",\n",
        "                            monitor='loss', verbose=1,\n",
        "                            save_best_only=True,\n",
        "                            mode='auto')\n",
        "\n",
        "model_1.compile(loss=criterion,\n",
        "            optimizer=sgd,\n",
        "            metrics=[\"accuracy\",\n",
        "                     recall_m,\n",
        "                     precision_m,\n",
        "                     f1_m],\n",
        "            )\n",
        "\n",
        "history = model_1.fit(ds_train,\n",
        "                  validation_data=ds_val,\n",
        "                  batch_size=batch_size,\n",
        "                  epochs=epochs,\n",
        "                  verbose=1,\n",
        "                  callbacks=[keras.callbacks.History(), early_stop, checkpoint])"
      ]
    },
    {
      "cell_type": "code",
      "execution_count": 18,
      "metadata": {
        "id": "yqjagY9kmBmA",
        "colab": {
          "base_uri": "https://localhost:8080/",
          "height": 472
        },
        "outputId": "15403fc4-454c-4c6b-adc0-5457e9eb28fc"
      },
      "outputs": [
        {
          "output_type": "display_data",
          "data": {
            "text/plain": [
              "<Figure size 640x480 with 1 Axes>"
            ],
            "image/png": "[encoded data removed]"
          },
          "metadata": {}
        }
      ],
      "source": [
        "plothist(history)"
      ]
    },
    {
      "cell_type": "code",
      "execution_count": 20,
      "metadata": {
        "id": "358hePuNmBmB",
        "colab": {
          "base_uri": "https://localhost:8080/"
        },
        "outputId": "3109dea9-f7a5-40cf-fbf9-aa8fdfc89373"
      },
      "outputs": [
        {
          "output_type": "stream",
          "name": "stdout",
          "text": [
            "126/126 [==============================] - 1125s 9s/step - loss: 4.4191 - accuracy: 0.2287 - recall_m: 0.1458 - precision_m: 0.4246 - f1_m: 0.2162\n"
          ]
        }
      ],
      "source": [
        "model_test_acc=model_1.evaluate(ds_test,batch_size=64)"
      ]
    },
    {
      "cell_type": "markdown",
      "metadata": {
        "id": "DWykljyPmBmC"
      },
      "source": [
        "## EfficientNetB0"
      ]
    },
    {
      "cell_type": "code",
      "execution_count": null,
      "metadata": {
        "id": "Vb2Zg5ZXDmGk"
      },
      "outputs": [],
      "source": [
        "base = EfficientNetB0(\n",
        "    include_top=False,\n",
        "    weights=\"imagenet\", # transfer learning da imagenet\n",
        "    input_tensor=None,\n",
        "    input_shape=(img_size[0],img_size[1],3),\n",
        "    pooling=None,\n",
        "    classes=n_classes,\n",
        "    classifier_activation='softmax',\n",
        ")\n",
        "\n",
        "base.trainable = False\n",
        "model_2 = Sequential([\n",
        "    resize_and_rescale,\n",
        "    augmentation,\n",
        "    base,\n",
        "    Flatten(),\n",
        "    Dense(512, activation='relu'),\n",
        "    Dropout(.2),\n",
        "    Dense(256, activation='relu'),\n",
        "    Dropout(.1),\n",
        "    Dense(n_classes, activation='softmax'),\n",
        "])\n",
        "\n",
        "model_2.build((None, img_size[0], img_size[1], channels))\n",
        "model_2.summary()"
      ]
    },
    {
      "cell_type": "code",
      "execution_count": null,
      "metadata": {
        "id": "6fyPKKuLDlqs"
      },
      "outputs": [],
      "source": [
        "# Training\n",
        "checkpoint = ModelCheckpoint(f\"/content/drive/MyDrive/Colab Notebooks/trab-final-best-effnetb0.hdf5\",\n",
        "                            monitor='loss', verbose=1,\n",
        "                            save_best_only=True,\n",
        "                            mode='auto')\n",
        "\n",
        "model_2.compile(loss=criterion,\n",
        "            optimizer=sgd,\n",
        "            metrics=[\"accuracy\"],\n",
        "            )\n",
        "\n",
        "history = model_2.fit(ds_train,\n",
        "                  validation_data=ds_val,\n",
        "                  batch_size=batch_size,\n",
        "                  epochs=epochs,\n",
        "                  verbose=1,\n",
        "                  callbacks=[keras.callbacks.History(), early_stop, checkpoint])"
      ]
    },
    {
      "cell_type": "code",
      "execution_count": null,
      "metadata": {
        "id": "qHArcvPpDlZK"
      },
      "outputs": [],
      "source": [
        "plothist(history)"
      ]
    },
    {
      "cell_type": "code",
      "execution_count": null,
      "metadata": {
        "id": "L9KiNcoVDVZW"
      },
      "outputs": [],
      "source": [
        "model_test_acc=model_2.evaluate(ds_test,batch_size=4)"
      ]
    },
    {
      "cell_type": "markdown",
      "metadata": {
        "id": "bRHHX6ysmBmD"
      },
      "source": [
        "## ResNet50V2"
      ]
    },
    {
      "cell_type": "code",
      "execution_count": null,
      "metadata": {
        "id": "mCVBFAqyEAge"
      },
      "outputs": [],
      "source": [
        "base = ResNet50V2(\n",
        "    include_top=False,\n",
        "    weights=\"imagenet\", # transfer learning da imagenet\n",
        "    input_tensor=None,\n",
        "    input_shape=(img_size[0],img_size[1],3),\n",
        "    pooling=None,\n",
        "    classes=n_classes,\n",
        "    classifier_activation='softmax',\n",
        ")\n",
        "\n",
        "base.trainable = False\n",
        "model_3 = Sequential([\n",
        "    resize_and_rescale,\n",
        "    augmentation,\n",
        "    base,\n",
        "    Flatten(),\n",
        "    Dense(512, activation='relu'),\n",
        "    Dropout(.2),\n",
        "    Dense(256, activation='relu'),\n",
        "    Dropout(.1),\n",
        "    Dense(n_classes, activation='softmax'),\n",
        "])\n",
        "\n",
        "model_3.build((None, img_size[0], img_size[1], channels))\n",
        "model_3.summary()"
      ]
    },
    {
      "cell_type": "code",
      "execution_count": null,
      "metadata": {
        "id": "O3qb8CQzEAgh"
      },
      "outputs": [],
      "source": [
        "# Training\n",
        "checkpoint = ModelCheckpoint(f\"/content/drive/MyDrive/Colab Notebooks/trab-final-best-resnet50v2.hdf5\",\n",
        "                            monitor='loss', verbose=1,\n",
        "                            save_best_only=True,\n",
        "                            mode='auto')\n",
        "\n",
        "model_3.compile(loss=criterion,\n",
        "            optimizer=sgd,\n",
        "            metrics=[\"accuracy\"],\n",
        "            )\n",
        "\n",
        "history = model_3.fit(ds_train,\n",
        "                  validation_data=ds_val,\n",
        "                  batch_size=batch_size,\n",
        "                  epochs=epochs,\n",
        "                  verbose=1,\n",
        "                  callbacks=[keras.callbacks.History(), early_stop, checkpoint])"
      ]
    },
    {
      "cell_type": "code",
      "execution_count": null,
      "metadata": {
        "id": "VTrs2VzjEAgj"
      },
      "outputs": [],
      "source": [
        "plothist(history)"
      ]
    },
    {
      "cell_type": "code",
      "execution_count": null,
      "metadata": {
        "id": "phZA582cEAgm"
      },
      "outputs": [],
      "source": [
        "model_test_acc=model_3.evaluate(ds_test,batch_size=4)"
      ]
    },
    {
      "cell_type": "markdown",
      "metadata": {
        "id": "9G9vDvximBmE"
      },
      "source": [
        "## InceptionV3"
      ]
    },
    {
      "cell_type": "code",
      "execution_count": null,
      "metadata": {
        "id": "txQwM3IKEBje"
      },
      "outputs": [],
      "source": [
        "base = InceptionV3(\n",
        "    include_top=False,\n",
        "    weights=\"imagenet\", # transfer learning da imagenet\n",
        "    input_tensor=None,\n",
        "    input_shape=(img_size[0],img_size[1],3),\n",
        "    pooling=None,\n",
        "    classes=n_classes,\n",
        "    classifier_activation='softmax',\n",
        ")\n",
        "\n",
        "base.trainable = False\n",
        "model_4 = Sequential([\n",
        "    resize_and_rescale,\n",
        "    augmentation,\n",
        "    base,\n",
        "    Flatten(),\n",
        "    Dense(512, activation='relu'),\n",
        "    Dropout(.2),\n",
        "    Dense(256, activation='relu'),\n",
        "    Dropout(.1),\n",
        "    Dense(n_classes, activation='softmax'),\n",
        "])\n",
        "\n",
        "model_4.build((None, img_size[0], img_size[1], channels))\n",
        "model_4.summary()"
      ]
    },
    {
      "cell_type": "code",
      "execution_count": null,
      "metadata": {
        "id": "Jms4Q5q2EBjg"
      },
      "outputs": [],
      "source": [
        "# Training\n",
        "checkpoint = ModelCheckpoint(f\"/content/drive/MyDrive/Colab Notebooks/trab-final-best-inceptionv3.hdf5\",\n",
        "                            monitor='loss', verbose=1,\n",
        "                            save_best_only=True,\n",
        "                            mode='auto')\n",
        "\n",
        "model_4.compile(loss=criterion,\n",
        "            optimizer=sgd,\n",
        "            metrics=[\"accuracy\"],\n",
        "            )\n",
        "\n",
        "history = model_2.fit(ds_train,\n",
        "                  validation_data=ds_val,\n",
        "                  batch_size=batch_size,\n",
        "                  epochs=epochs,\n",
        "                  verbose=1,\n",
        "                  callbacks=[keras.callbacks.History(), early_stop, checkpoint])"
      ]
    },
    {
      "cell_type": "code",
      "execution_count": null,
      "metadata": {
        "id": "qNe3ocECEBjh"
      },
      "outputs": [],
      "source": [
        "plothist(history)"
      ]
    },
    {
      "cell_type": "code",
      "execution_count": null,
      "metadata": {
        "id": "4xULbviDEBjh"
      },
      "outputs": [],
      "source": [
        "model_test_acc=model_4.evaluate(ds_test,batch_size=4)"
      ]
    },
    {
      "cell_type": "markdown",
      "source": [
        "# K-fold Cross-validation"
      ],
      "metadata": {
        "id": "zykLHJ5EsWtU"
      }
    },
    {
      "cell_type": "code",
      "source": [
        "k = 5"
      ],
      "metadata": {
        "id": "f3pCXnTQsVGy"
      },
      "execution_count": null,
      "outputs": []
    },
    {
      "cell_type": "markdown",
      "metadata": {
        "id": "D1I7xrcysPPQ"
      },
      "source": [
        "# Referências\n",
        "\n",
        "[1] - [Choose an activation function for deep learning - Machine Learning Mastery](https://machinelearningmastery.com/choose-an-activation-function-for-deep-learning/)\n",
        "\n",
        "[2] - [Data augmentation - Tensorflow](https://www.tensorflow.org/tutorials/images/data_augmentation)\n"
      ]
    }
  ],
  "metadata": {
    "accelerator": "GPU",
    "colab": {
      "provenance": [],
      "gpuType": "T4",
      "include_colab_link": true
    },
    "kernelspec": {
      "display_name": "Python 3",
      "name": "python3"
    },
    "language_info": {
      "name": "python"
    }
  },
  "nbformat": 4,
  "nbformat_minor": 0
}